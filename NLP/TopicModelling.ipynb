{
 "cells": [
  {
   "cell_type": "code",
   "execution_count": 1,
   "id": "19b258ed-7053-40c7-be3a-711d64f101a0",
   "metadata": {
    "tags": []
   },
   "outputs": [
    {
     "name": "stderr",
     "output_type": "stream",
     "text": [
      "[nltk_data] Downloading package punkt to\n",
      "[nltk_data]     C:\\Users\\Usuario\\AppData\\Roaming\\nltk_data...\n",
      "[nltk_data]   Unzipping tokenizers\\punkt.zip.\n"
     ]
    }
   ],
   "source": [
    "%load_ext autoreload\n",
    "%autoreload 2\n",
    "\n",
    "# import libraries\n",
    "import pandas as pd\n",
    "import re\n",
    "\n",
    "import os\n",
    "\n",
    "# NLP\n",
    "import nltk\n",
    "nltk.download('punkt')                            # necesario para que funcione el tokenizador\n",
    "from nltk.corpus import stopwords\n",
    "from nltk import sent_tokenize, word_tokenize"
   ]
  },
  {
   "cell_type": "markdown",
   "id": "8d98e35a-66f6-45f3-a424-757244e8e2cd",
   "metadata": {},
   "source": [
    "## Cargar datos\n",
    "Se cargan los datos de todas las hojas del espacio de trabajo del documento excel. La variable resultante es un diccionario que tiene como \"keys\" cada hoja del excel (nombre del profesor) y como \"values\" los contenidos de cada hoja."
   ]
  },
  {
   "cell_type": "code",
   "execution_count": 3,
   "id": "1ba8b964-0a51-49df-a9fd-754e46015695",
   "metadata": {
    "tags": []
   },
   "outputs": [],
   "source": [
    "df = pd.read_excel(\"data/Proyecto. Dep- Física.xlsx\")\n",
    "df = df.dropna(subset=[\"Descripción original\"])"
   ]
  },
  {
   "cell_type": "code",
   "execution_count": 4,
   "id": "b576e8e6-6be9-4568-8049-32613f9fbb6a",
   "metadata": {
    "tags": []
   },
   "outputs": [
    {
     "data": {
      "text/html": [
       "<div>\n",
       "<style scoped>\n",
       "    .dataframe tbody tr th:only-of-type {\n",
       "        vertical-align: middle;\n",
       "    }\n",
       "\n",
       "    .dataframe tbody tr th {\n",
       "        vertical-align: top;\n",
       "    }\n",
       "\n",
       "    .dataframe thead th {\n",
       "        text-align: right;\n",
       "    }\n",
       "</style>\n",
       "<table border=\"1\" class=\"dataframe\">\n",
       "  <thead>\n",
       "    <tr style=\"text-align: right;\">\n",
       "      <th></th>\n",
       "      <th>Título original</th>\n",
       "      <th>Título en español</th>\n",
       "      <th>Título en ingles</th>\n",
       "      <th>Descripción original</th>\n",
       "      <th>Descripción en español</th>\n",
       "      <th>Descripción en ingles</th>\n",
       "      <th>Citaciones</th>\n",
       "      <th>Idioma</th>\n",
       "      <th>Fecha</th>\n",
       "      <th>Tipo</th>\n",
       "      <th>Fuente</th>\n",
       "      <th>Enlace</th>\n",
       "    </tr>\n",
       "  </thead>\n",
       "  <tbody>\n",
       "    <tr>\n",
       "      <th>0</th>\n",
       "      <td>XPS structure analysis of TiN/TiC bilayers pro...</td>\n",
       "      <td>XPS structure analysis of TiN/TiC bilayers pro...</td>\n",
       "      <td>XPS structure analysis of TiN/TiC bilayers pro...</td>\n",
       "      <td>TiN/TiC Bilayers were grown on 304 stainless s...</td>\n",
       "      <td>Los bicapas de estaño / tic se cultivaron en 3...</td>\n",
       "      <td>TiN/TiC Bilayers were grown on 304 stainless s...</td>\n",
       "      <td>28</td>\n",
       "      <td>en</td>\n",
       "      <td>2010-01-01</td>\n",
       "      <td>Artículo de revista</td>\n",
       "      <td>SCOPUS</td>\n",
       "      <td>https://www.scopus.com/inward/record.uri?partn...</td>\n",
       "    </tr>\n",
       "    <tr>\n",
       "      <th>3</th>\n",
       "      <td>XPS structure analysis of TiN/TiC bilayers pro...</td>\n",
       "      <td>Análisis de la estructura XPS de las bicapas d...</td>\n",
       "      <td>XPS structure analysis of TiN/TiC bilayers pro...</td>\n",
       "      <td>Tin / ICT Bilacas were grew on stainless steel...</td>\n",
       "      <td>se crecieron bicapas de TiN/TiC sobre sustrato...</td>\n",
       "      <td>Tin / ICT Bilacas were grew on stainless steel...</td>\n",
       "      <td>23</td>\n",
       "      <td>en</td>\n",
       "      <td>2010-09-01</td>\n",
       "      <td>Artículo de revista</td>\n",
       "      <td>RG</td>\n",
       "      <td>https://www.researchgate.net/publication/49598...</td>\n",
       "    </tr>\n",
       "    <tr>\n",
       "      <th>5</th>\n",
       "      <td>Comparative study between natural and syntheti...</td>\n",
       "      <td>Estudio comparativo entre hidroxiapatita natur...</td>\n",
       "      <td>Comparative study between natural and syntheti...</td>\n",
       "      <td>In this work, a study of hydroxyapatite (HAp) ...</td>\n",
       "      <td>En este trabajo, se realizó un estudio de pol...</td>\n",
       "      <td>In this work, a study of hydroxyapatite (HAp) ...</td>\n",
       "      <td>17</td>\n",
       "      <td>en</td>\n",
       "      <td>2018-01-01</td>\n",
       "      <td>Artículo de revista</td>\n",
       "      <td>SCOPUS</td>\n",
       "      <td>http://dx.doi.org/10.1590/s1517-707620180004.0551</td>\n",
       "    </tr>\n",
       "  </tbody>\n",
       "</table>\n",
       "</div>"
      ],
      "text/plain": [
       "                                     Título original  \\\n",
       "0  XPS structure analysis of TiN/TiC bilayers pro...   \n",
       "3  XPS structure analysis of TiN/TiC bilayers pro...   \n",
       "5  Comparative study between natural and syntheti...   \n",
       "\n",
       "                                   Título en español  \\\n",
       "0  XPS structure analysis of TiN/TiC bilayers pro...   \n",
       "3  Análisis de la estructura XPS de las bicapas d...   \n",
       "5  Estudio comparativo entre hidroxiapatita natur...   \n",
       "\n",
       "                                    Título en ingles  \\\n",
       "0  XPS structure analysis of TiN/TiC bilayers pro...   \n",
       "3  XPS structure analysis of TiN/TiC bilayers pro...   \n",
       "5  Comparative study between natural and syntheti...   \n",
       "\n",
       "                                Descripción original  \\\n",
       "0  TiN/TiC Bilayers were grown on 304 stainless s...   \n",
       "3  Tin / ICT Bilacas were grew on stainless steel...   \n",
       "5  In this work, a study of hydroxyapatite (HAp) ...   \n",
       "\n",
       "                              Descripción en español  \\\n",
       "0  Los bicapas de estaño / tic se cultivaron en 3...   \n",
       "3  se crecieron bicapas de TiN/TiC sobre sustrato...   \n",
       "5   En este trabajo, se realizó un estudio de pol...   \n",
       "\n",
       "                               Descripción en ingles  Citaciones Idioma  \\\n",
       "0  TiN/TiC Bilayers were grown on 304 stainless s...          28     en   \n",
       "3  Tin / ICT Bilacas were grew on stainless steel...          23     en   \n",
       "5  In this work, a study of hydroxyapatite (HAp) ...          17     en   \n",
       "\n",
       "       Fecha                 Tipo  Fuente  \\\n",
       "0 2010-01-01  Artículo de revista  SCOPUS   \n",
       "3 2010-09-01  Artículo de revista      RG   \n",
       "5 2018-01-01  Artículo de revista  SCOPUS   \n",
       "\n",
       "                                              Enlace  \n",
       "0  https://www.scopus.com/inward/record.uri?partn...  \n",
       "3  https://www.researchgate.net/publication/49598...  \n",
       "5  http://dx.doi.org/10.1590/s1517-707620180004.0551  "
      ]
     },
     "execution_count": 4,
     "metadata": {},
     "output_type": "execute_result"
    }
   ],
   "source": [
    "df.head(3)"
   ]
  },
  {
   "cell_type": "code",
   "execution_count": 5,
   "id": "68a55465-5acf-43af-af29-29e1046350df",
   "metadata": {
    "tags": []
   },
   "outputs": [
    {
     "data": {
      "text/plain": [
       "'TiN/TiC Bilayers were grown on 304 stainless steel substrates using physical vapour deposition assisted by pulsed arc plasma system (PAPVD) at two substrate temperatures (50°C and 150°C). X ray photoelectron spectroscopy (XPS) was used to analyze the chemical composition by observing the behaviour of the Ti2p, N1s and C1s lines. Binding energy analysis confirmed TiN and TiC formation. The C1s and Ti2p peaks shifted with increasing XPS sputtering time, thus revealing hydrocarbides contamination. Furthermore, depth profiles of the TiN/TiC bilayers showed that the films grown at a substrate temperature of 150°C had a thicker TiN layer than the samples grown at 50°C. Nitrogen had diffused into the TiC layer and carbon into the TiN layer in both films.'"
      ]
     },
     "execution_count": 5,
     "metadata": {},
     "output_type": "execute_result"
    }
   ],
   "source": [
    "df.iloc[0,3]"
   ]
  },
  {
   "cell_type": "code",
   "execution_count": 8,
   "id": "6ac6b85f-2915-481f-95b7-0df162238dcd",
   "metadata": {
    "tags": []
   },
   "outputs": [],
   "source": [
    "# cargar datos de todas las hojas\n",
    "data = pd.read_excel(\"data/Proyecto. Dep- Física.xlsx\", sheet_name=None)\n",
    "\n",
    "# Separar información util\n",
    "names = [name for name in data.keys()]\n",
    "# titulos"
   ]
  },
  {
   "cell_type": "code",
   "execution_count": 9,
   "id": "e8e90892-5da2-4904-946d-09800797500a",
   "metadata": {
    "tags": []
   },
   "outputs": [
    {
     "data": {
      "text/plain": [
       "Index(['Título original', 'Título en español', 'Título en ingles',\n",
       "       'Descripción original', 'Descripción en español',\n",
       "       'Descripción en ingles', 'Citaciones', 'Idioma', 'Fecha', 'Tipo',\n",
       "       'Fuente', 'Enlace'],\n",
       "      dtype='object')"
      ]
     },
     "execution_count": 9,
     "metadata": {},
     "output_type": "execute_result"
    }
   ],
   "source": [
    "data['Arango Arango Pedro Jose'].columns"
   ]
  },
  {
   "cell_type": "code",
   "execution_count": 11,
   "id": "984afbee-0a5e-4485-b4e4-d57be66c18d1",
   "metadata": {
    "tags": []
   },
   "outputs": [],
   "source": [
    "tokens = []\n",
    "for name in names:\n",
    "    # print(name)\n",
    "    df = data[name]\n",
    "    df.dropna(subset=[\"Descripción original\"], inplace =True)                # quitar filas de datos faltantes                    \n",
    "    # df.iloc[:,3] = df.iloc[:,3].map(lambda x: re.sub('[,\\.!:?]', '', x))     # quitar puntuación (TENER CUIDADO!!!)\n",
    "    # df.iloc[:,3] = df.iloc[:,3].map(lambda x: x.lower())                     # llevar todo a minusculas, luego de tokenizar.\n",
    "    # tokens.append(df.iloc[:,3].apply(lambda x: word_tokenize(x)).to_list())\n",
    "    \n",
    "    "
   ]
  },
  {
   "cell_type": "code",
   "execution_count": 12,
   "id": "26e187c4-dc80-418c-9a85-291fe58a3e3e",
   "metadata": {
    "tags": []
   },
   "outputs": [
    {
     "data": {
      "text/html": [
       "<div>\n",
       "<style scoped>\n",
       "    .dataframe tbody tr th:only-of-type {\n",
       "        vertical-align: middle;\n",
       "    }\n",
       "\n",
       "    .dataframe tbody tr th {\n",
       "        vertical-align: top;\n",
       "    }\n",
       "\n",
       "    .dataframe thead th {\n",
       "        text-align: right;\n",
       "    }\n",
       "</style>\n",
       "<table border=\"1\" class=\"dataframe\">\n",
       "  <thead>\n",
       "    <tr style=\"text-align: right;\">\n",
       "      <th></th>\n",
       "      <th>Título original</th>\n",
       "      <th>Título en español</th>\n",
       "      <th>Título en ingles</th>\n",
       "      <th>Descripción original</th>\n",
       "      <th>Descripción en español</th>\n",
       "      <th>Descripción en ingles</th>\n",
       "      <th>Citaciones</th>\n",
       "      <th>Idioma</th>\n",
       "      <th>Fecha</th>\n",
       "      <th>Tipo</th>\n",
       "      <th>Fuente</th>\n",
       "      <th>Enlace</th>\n",
       "    </tr>\n",
       "  </thead>\n",
       "  <tbody>\n",
       "    <tr>\n",
       "      <th>0</th>\n",
       "      <td>Coagulation-flocculation sequential with Fento...</td>\n",
       "      <td>COAGULA-CLOCTULATE SECUENCIA CON PROCESOS DE F...</td>\n",
       "      <td>Coagulation-flocculation sequential with Fento...</td>\n",
       "      <td>During the C-F, Al2(SO4)3 was used as coagula...</td>\n",
       "      <td>Durante el C-F, AL2 (SO4) 3 se usó como coagu...</td>\n",
       "      <td>During the C-F, Al2(SO4)3 was used as coagula...</td>\n",
       "      <td>96.0</td>\n",
       "      <td>en</td>\n",
       "      <td>2017-04-15</td>\n",
       "      <td>Artículo de revista</td>\n",
       "      <td>SCOPUS</td>\n",
       "      <td>http://dx.doi.org/10.1016/j.jenvman.2017.01.015</td>\n",
       "    </tr>\n",
       "    <tr>\n",
       "      <th>2</th>\n",
       "      <td>Optimization and toxicity assessment of a comb...</td>\n",
       "      <td>Evaluación de la optimización y toxicidad de u...</td>\n",
       "      <td>Optimization and toxicity assessment of a comb...</td>\n",
       "      <td>V.In this study, the potential application of ...</td>\n",
       "      <td>Aguas materiales textiles resultantes de una ...</td>\n",
       "      <td>V.In this study, the potential application of ...</td>\n",
       "      <td>50.0</td>\n",
       "      <td>en</td>\n",
       "      <td>2019-02-15</td>\n",
       "      <td>Artículo de revista</td>\n",
       "      <td>SCOPUS</td>\n",
       "      <td>http://dx.doi.org/10.1016/j.scitotenv.2018.09.125</td>\n",
       "    </tr>\n",
       "    <tr>\n",
       "      <th>4</th>\n",
       "      <td>Carbon monoxide oxidation over Au/Ce1-xZrxO 2 ...</td>\n",
       "      <td>Oxidación de monóxido de carbono sobre cataliz...</td>\n",
       "      <td>Carbon monoxide oxidation over Au/Ce1-xZrxO 2 ...</td>\n",
       "      <td>The Au/Ce1-xZrxO2 (x = 0, 0.25, 1) catalysts w...</td>\n",
       "      <td>Los catalizadores AU / CE1-XZRXO2 (X = 0, 0.25...</td>\n",
       "      <td>The Au/Ce1-xZrxO2 (x = 0, 0.25, 1) catalysts w...</td>\n",
       "      <td>33.0</td>\n",
       "      <td>en</td>\n",
       "      <td>2009-01-01</td>\n",
       "      <td>Artículo de revista</td>\n",
       "      <td>SCOPUS</td>\n",
       "      <td>http://dx.doi.org/10.1007/s10562-008-9749-1</td>\n",
       "    </tr>\n",
       "    <tr>\n",
       "      <th>5</th>\n",
       "      <td>Kinetic study on the catalytic esterification ...</td>\n",
       "      <td>Estudio cinético sobre la esterificación catal...</td>\n",
       "      <td>Kinetic study on the catalytic esterification ...</td>\n",
       "      <td>A kinetic model was fitted for the liquid phas...</td>\n",
       "      <td>Se instaló un modelo cinético para la esterifi...</td>\n",
       "      <td>A kinetic model was fitted for the liquid phas...</td>\n",
       "      <td>26.0</td>\n",
       "      <td>en</td>\n",
       "      <td>2013-01-01</td>\n",
       "      <td>Artículo de revista</td>\n",
       "      <td>SCOPUS</td>\n",
       "      <td>http://dx.doi.org/10.1016/j.ces.2013.07.009</td>\n",
       "    </tr>\n",
       "    <tr>\n",
       "      <th>6</th>\n",
       "      <td>Optimization of sequential chemical coagulatio...</td>\n",
       "      <td>Optimización de la coagulación química secuenc...</td>\n",
       "      <td>Optimization of sequential chemical coagulatio...</td>\n",
       "      <td>Complete characterization of the effluent was...</td>\n",
       "      <td>La caracterización completa del efluente se r...</td>\n",
       "      <td>Complete characterization of the effluent was...</td>\n",
       "      <td>26.0</td>\n",
       "      <td>en</td>\n",
       "      <td>2018-04-01</td>\n",
       "      <td>Artículo de revista</td>\n",
       "      <td>SCOPUS</td>\n",
       "      <td>http://dx.doi.org/10.1016/j.jwpe.2018.01.005</td>\n",
       "    </tr>\n",
       "    <tr>\n",
       "      <th>...</th>\n",
       "      <td>...</td>\n",
       "      <td>...</td>\n",
       "      <td>...</td>\n",
       "      <td>...</td>\n",
       "      <td>...</td>\n",
       "      <td>...</td>\n",
       "      <td>...</td>\n",
       "      <td>...</td>\n",
       "      <td>...</td>\n",
       "      <td>...</td>\n",
       "      <td>...</td>\n",
       "      <td>...</td>\n",
       "    </tr>\n",
       "    <tr>\n",
       "      <th>77</th>\n",
       "      <td>Parametric sensitivity analysis of o-nitroanil...</td>\n",
       "      <td>Parametric sensitivity analysis of o-nitroanil...</td>\n",
       "      <td>Parametric sensitivity analysis of o-nitroanil...</td>\n",
       "      <td>All Rights Reserved.In this work, the paramet...</td>\n",
       "      <td>En este trabajo, se estudió la sensibilidad p...</td>\n",
       "      <td>All Rights Reserved.In this work, the paramet...</td>\n",
       "      <td>0.0</td>\n",
       "      <td>en</td>\n",
       "      <td>2019-02-01</td>\n",
       "      <td>Artículo de revista</td>\n",
       "      <td>SCOPUS</td>\n",
       "      <td>http://dx.doi.org/10.4067/S0718-07642019000100015</td>\n",
       "    </tr>\n",
       "    <tr>\n",
       "      <th>78</th>\n",
       "      <td>Enhanced adsorption and desorption of Cr(VI) f...</td>\n",
       "      <td>Adsorción mejorada y desorción de CR (VI) de l...</td>\n",
       "      <td>Enhanced adsorption and desorption of Cr(VI) f...</td>\n",
       "      <td>Hydrous Ce1–x Zr x O2 (x = 0.25; 0.5; 0.75) mi...</td>\n",
       "      <td>HYDROUS CE1-X ZR X O2 (x = 0.25; 0.5; 0.75) Se...</td>\n",
       "      <td>Hydrous Ce1–x Zr x O2 (x = 0.25; 0.5; 0.75) mi...</td>\n",
       "      <td>0.0</td>\n",
       "      <td>en</td>\n",
       "      <td>2020-01-01</td>\n",
       "      <td>Artículo de revista</td>\n",
       "      <td>SCOPUS</td>\n",
       "      <td>http://dx.doi.org/10.1080/01932691.2020.1845716</td>\n",
       "    </tr>\n",
       "    <tr>\n",
       "      <th>79</th>\n",
       "      <td>An adaptive WENO algorithm for one-dimensional...</td>\n",
       "      <td>Un algoritmo de Weno Adaptable para ecuaciones...</td>\n",
       "      <td>An adaptive WENO algorithm for one-dimensional...</td>\n",
       "      <td>The proposed algorithm uses a fully adaptive ...</td>\n",
       "      <td>El algoritmo propuesto utiliza un esquema tot...</td>\n",
       "      <td>The proposed algorithm uses a fully adaptive ...</td>\n",
       "      <td>0.0</td>\n",
       "      <td>en</td>\n",
       "      <td>2020-02-23</td>\n",
       "      <td>Artículo de revista</td>\n",
       "      <td>SCOPUS</td>\n",
       "      <td>http://dx.doi.org/10.1016/j.ces.2019.115391</td>\n",
       "    </tr>\n",
       "    <tr>\n",
       "      <th>80</th>\n",
       "      <td>Parametric sensitivity analysis for the indust...</td>\n",
       "      <td>Análisis de sensibilidad paramétrica para el c...</td>\n",
       "      <td>Parametric sensitivity analysis for the indust...</td>\n",
       "      <td>Licensee MDPI, Basel, Switzerland.The operati...</td>\n",
       "      <td>Licenciatario MDPI, Basilea, Suiza. La operac...</td>\n",
       "      <td>Licensee MDPI, Basel, Switzerland.The operati...</td>\n",
       "      <td>0.0</td>\n",
       "      <td>en</td>\n",
       "      <td>2020-06-01</td>\n",
       "      <td>Artículo de revista</td>\n",
       "      <td>SCOPUS</td>\n",
       "      <td>http://dx.doi.org/10.3390/catal10060626</td>\n",
       "    </tr>\n",
       "    <tr>\n",
       "      <th>81</th>\n",
       "      <td>A structured study on the dynamic bifurcation ...</td>\n",
       "      <td>Un estudio estructurado sobre el comportamient...</td>\n",
       "      <td>A structured study on the dynamic bifurcation ...</td>\n",
       "      <td>The mathematical model was solved using the a...</td>\n",
       "      <td>El modelo matemático se resolvió utilizando e...</td>\n",
       "      <td>The mathematical model was solved using the a...</td>\n",
       "      <td>0.0</td>\n",
       "      <td>en</td>\n",
       "      <td>2021-11-02</td>\n",
       "      <td>Artículo de revista</td>\n",
       "      <td>SCOPUS</td>\n",
       "      <td>http://dx.doi.org/10.1016/j.ces.2021.116777</td>\n",
       "    </tr>\n",
       "  </tbody>\n",
       "</table>\n",
       "<p>66 rows × 12 columns</p>\n",
       "</div>"
      ],
      "text/plain": [
       "                                      Título original  \\\n",
       "0   Coagulation-flocculation sequential with Fento...   \n",
       "2   Optimization and toxicity assessment of a comb...   \n",
       "4   Carbon monoxide oxidation over Au/Ce1-xZrxO 2 ...   \n",
       "5   Kinetic study on the catalytic esterification ...   \n",
       "6   Optimization of sequential chemical coagulatio...   \n",
       "..                                                ...   \n",
       "77  Parametric sensitivity analysis of o-nitroanil...   \n",
       "78  Enhanced adsorption and desorption of Cr(VI) f...   \n",
       "79  An adaptive WENO algorithm for one-dimensional...   \n",
       "80  Parametric sensitivity analysis for the indust...   \n",
       "81  A structured study on the dynamic bifurcation ...   \n",
       "\n",
       "                                    Título en español  \\\n",
       "0   COAGULA-CLOCTULATE SECUENCIA CON PROCESOS DE F...   \n",
       "2   Evaluación de la optimización y toxicidad de u...   \n",
       "4   Oxidación de monóxido de carbono sobre cataliz...   \n",
       "5   Estudio cinético sobre la esterificación catal...   \n",
       "6   Optimización de la coagulación química secuenc...   \n",
       "..                                                ...   \n",
       "77  Parametric sensitivity analysis of o-nitroanil...   \n",
       "78  Adsorción mejorada y desorción de CR (VI) de l...   \n",
       "79  Un algoritmo de Weno Adaptable para ecuaciones...   \n",
       "80  Análisis de sensibilidad paramétrica para el c...   \n",
       "81  Un estudio estructurado sobre el comportamient...   \n",
       "\n",
       "                                     Título en ingles  \\\n",
       "0   Coagulation-flocculation sequential with Fento...   \n",
       "2   Optimization and toxicity assessment of a comb...   \n",
       "4   Carbon monoxide oxidation over Au/Ce1-xZrxO 2 ...   \n",
       "5   Kinetic study on the catalytic esterification ...   \n",
       "6   Optimization of sequential chemical coagulatio...   \n",
       "..                                                ...   \n",
       "77  Parametric sensitivity analysis of o-nitroanil...   \n",
       "78  Enhanced adsorption and desorption of Cr(VI) f...   \n",
       "79  An adaptive WENO algorithm for one-dimensional...   \n",
       "80  Parametric sensitivity analysis for the indust...   \n",
       "81  A structured study on the dynamic bifurcation ...   \n",
       "\n",
       "                                 Descripción original  \\\n",
       "0    During the C-F, Al2(SO4)3 was used as coagula...   \n",
       "2   V.In this study, the potential application of ...   \n",
       "4   The Au/Ce1-xZrxO2 (x = 0, 0.25, 1) catalysts w...   \n",
       "5   A kinetic model was fitted for the liquid phas...   \n",
       "6    Complete characterization of the effluent was...   \n",
       "..                                                ...   \n",
       "77   All Rights Reserved.In this work, the paramet...   \n",
       "78  Hydrous Ce1–x Zr x O2 (x = 0.25; 0.5; 0.75) mi...   \n",
       "79   The proposed algorithm uses a fully adaptive ...   \n",
       "80   Licensee MDPI, Basel, Switzerland.The operati...   \n",
       "81   The mathematical model was solved using the a...   \n",
       "\n",
       "                               Descripción en español  \\\n",
       "0    Durante el C-F, AL2 (SO4) 3 se usó como coagu...   \n",
       "2    Aguas materiales textiles resultantes de una ...   \n",
       "4   Los catalizadores AU / CE1-XZRXO2 (X = 0, 0.25...   \n",
       "5   Se instaló un modelo cinético para la esterifi...   \n",
       "6    La caracterización completa del efluente se r...   \n",
       "..                                                ...   \n",
       "77   En este trabajo, se estudió la sensibilidad p...   \n",
       "78  HYDROUS CE1-X ZR X O2 (x = 0.25; 0.5; 0.75) Se...   \n",
       "79   El algoritmo propuesto utiliza un esquema tot...   \n",
       "80   Licenciatario MDPI, Basilea, Suiza. La operac...   \n",
       "81   El modelo matemático se resolvió utilizando e...   \n",
       "\n",
       "                                Descripción en ingles  Citaciones Idioma  \\\n",
       "0    During the C-F, Al2(SO4)3 was used as coagula...        96.0     en   \n",
       "2   V.In this study, the potential application of ...        50.0     en   \n",
       "4   The Au/Ce1-xZrxO2 (x = 0, 0.25, 1) catalysts w...        33.0     en   \n",
       "5   A kinetic model was fitted for the liquid phas...        26.0     en   \n",
       "6    Complete characterization of the effluent was...        26.0     en   \n",
       "..                                                ...         ...    ...   \n",
       "77   All Rights Reserved.In this work, the paramet...         0.0     en   \n",
       "78  Hydrous Ce1–x Zr x O2 (x = 0.25; 0.5; 0.75) mi...         0.0     en   \n",
       "79   The proposed algorithm uses a fully adaptive ...         0.0     en   \n",
       "80   Licensee MDPI, Basel, Switzerland.The operati...         0.0     en   \n",
       "81   The mathematical model was solved using the a...         0.0     en   \n",
       "\n",
       "        Fecha                 Tipo  Fuente  \\\n",
       "0  2017-04-15  Artículo de revista  SCOPUS   \n",
       "2  2019-02-15  Artículo de revista  SCOPUS   \n",
       "4  2009-01-01  Artículo de revista  SCOPUS   \n",
       "5  2013-01-01  Artículo de revista  SCOPUS   \n",
       "6  2018-04-01  Artículo de revista  SCOPUS   \n",
       "..        ...                  ...     ...   \n",
       "77 2019-02-01  Artículo de revista  SCOPUS   \n",
       "78 2020-01-01  Artículo de revista  SCOPUS   \n",
       "79 2020-02-23  Artículo de revista  SCOPUS   \n",
       "80 2020-06-01  Artículo de revista  SCOPUS   \n",
       "81 2021-11-02  Artículo de revista  SCOPUS   \n",
       "\n",
       "                                               Enlace  \n",
       "0     http://dx.doi.org/10.1016/j.jenvman.2017.01.015  \n",
       "2   http://dx.doi.org/10.1016/j.scitotenv.2018.09.125  \n",
       "4         http://dx.doi.org/10.1007/s10562-008-9749-1  \n",
       "5         http://dx.doi.org/10.1016/j.ces.2013.07.009  \n",
       "6        http://dx.doi.org/10.1016/j.jwpe.2018.01.005  \n",
       "..                                                ...  \n",
       "77  http://dx.doi.org/10.4067/S0718-07642019000100015  \n",
       "78    http://dx.doi.org/10.1080/01932691.2020.1845716  \n",
       "79        http://dx.doi.org/10.1016/j.ces.2019.115391  \n",
       "80            http://dx.doi.org/10.3390/catal10060626  \n",
       "81        http://dx.doi.org/10.1016/j.ces.2021.116777  \n",
       "\n",
       "[66 rows x 12 columns]"
      ]
     },
     "execution_count": 12,
     "metadata": {},
     "output_type": "execute_result"
    }
   ],
   "source": [
    "df"
   ]
  },
  {
   "cell_type": "code",
   "execution_count": 55,
   "id": "3f19bb83-58e0-4505-ad10-c271629e7ef3",
   "metadata": {},
   "outputs": [
    {
     "data": {
      "text/plain": [
       "'TiN/TiC Bilayers were grown on 304 stainless steel substrates using physical vapour deposition assisted by pulsed arc plasma system (PAPVD) at two substrate temperatures (50°C and 150°C). X ray photoelectron spectroscopy (XPS) was used to analyze the chemical composition by observing the behaviour of the Ti2p, N1s and C1s lines. Binding energy analysis confirmed TiN and TiC formation. The C1s and Ti2p peaks shifted with increasing XPS sputtering time, thus revealing hydrocarbides contamination. Furthermore, depth profiles of the TiN/TiC bilayers showed that the films grown at a substrate temperature of 150°C had a thicker TiN layer than the samples grown at 50°C. Nitrogen had diffused into the TiC layer and carbon into the TiN layer in both films.'"
      ]
     },
     "execution_count": 55,
     "metadata": {},
     "output_type": "execute_result"
    }
   ],
   "source": [
    "test = df.iloc[0,3]\n",
    "test"
   ]
  },
  {
   "cell_type": "code",
   "execution_count": 48,
   "id": "b7d95e4d-d162-4e5b-8a4b-919b949fc4ab",
   "metadata": {},
   "outputs": [],
   "source": [
    "tok = df.iloc[:,3].apply(lambda x: word_tokenize(x)).to_list()"
   ]
  },
  {
   "cell_type": "code",
   "execution_count": 49,
   "id": "9842bdce-723a-4ece-9046-a5d3d05a1a39",
   "metadata": {},
   "outputs": [
    {
     "data": {
      "text/plain": [
       "list"
      ]
     },
     "execution_count": 49,
     "metadata": {},
     "output_type": "execute_result"
    }
   ],
   "source": [
    "type(tok)"
   ]
  },
  {
   "cell_type": "markdown",
   "id": "ef6b5fc4-9911-4ce6-b1a8-2bac5ca0eb21",
   "metadata": {},
   "source": [
    "## Preprocesamiento\n",
    "\n",
    "Se llevaran a cabo los siguientes pasos:\n",
    "\n",
    "    - Tokenización:\n",
    "    - Palabras con menos de tres caracteres se retiran.\n",
    "    - Remover Stopwords.\n",
    "    - Lematización:\n",
    "    - Stemmed:\n"
   ]
  },
  {
   "cell_type": "code",
   "execution_count": 9,
   "id": "c0aca737-4a91-4c1d-9ff0-4c231b4a3ba2",
   "metadata": {},
   "outputs": [
    {
     "data": {
      "text/plain": [
       "'C:\\\\Users\\\\Usuario\\\\anaconda3\\\\lib\\\\site-packages\\\\pandas\\\\__init__.py'"
      ]
     },
     "execution_count": 9,
     "metadata": {},
     "output_type": "execute_result"
    }
   ],
   "source": [
    "pd.__file__"
   ]
  }
 ],
 "metadata": {
  "kernelspec": {
   "display_name": "Python 3 (ipykernel)",
   "language": "python",
   "name": "python3"
  },
  "language_info": {
   "codemirror_mode": {
    "name": "ipython",
    "version": 3
   },
   "file_extension": ".py",
   "mimetype": "text/x-python",
   "name": "python",
   "nbconvert_exporter": "python",
   "pygments_lexer": "ipython3",
   "version": "3.11.5"
  }
 },
 "nbformat": 4,
 "nbformat_minor": 5
}
